{
 "cells": [
  {
   "cell_type": "code",
   "execution_count": null,
   "id": "493a2347-9df1-49cb-a2fb-3d0a4fffeb8e",
   "metadata": {},
   "outputs": [],
   "source": [
    "6ans)"
   ]
  },
  {
   "cell_type": "code",
   "execution_count": 10,
   "id": "aa7aa082-f540-49eb-9c94-568ce931f22e",
   "metadata": {},
   "outputs": [
    {
     "name": "stdout",
     "output_type": "stream",
     "text": [
      "*****\n",
      "*****\n",
      "*****\n",
      "*****\n",
      "*****\n"
     ]
    }
   ],
   "source": [
    "i=1\n",
    "while i<6:\n",
    "    j=1\n",
    "    while j<6:\n",
    "        print(\"*\",end=\"\")\n",
    "        j=j+1\n",
    "    print()\n",
    "    i=i+1"
   ]
  },
  {
   "cell_type": "code",
   "execution_count": 12,
   "id": "60200a4e-c793-4a56-a6e9-967a2a8cc859",
   "metadata": {},
   "outputs": [
    {
     "name": "stdout",
     "output_type": "stream",
     "text": [
      "*\n",
      "**\n",
      "***\n",
      "****\n",
      "*****\n"
     ]
    }
   ],
   "source": [
    "i=1\n",
    "while i<6:\n",
    "    j=1\n",
    "    while j<=i:\n",
    "        print(\"*\",end=\"\")\n",
    "        j=j+1\n",
    "    print()\n",
    "    i=i+1"
   ]
  },
  {
   "cell_type": "code",
   "execution_count": 13,
   "id": "c422fbfd-facd-49eb-a91e-66ce76452e13",
   "metadata": {},
   "outputs": [
    {
     "name": "stdout",
     "output_type": "stream",
     "text": [
      "*****\n",
      "****\n",
      "***\n",
      "**\n",
      "*\n"
     ]
    }
   ],
   "source": [
    "i=1\n",
    "while i<6:\n",
    "    j=1\n",
    "    while j<=6-i:\n",
    "        print(\"*\",end=\"\")\n",
    "        j=j+1\n",
    "    print()\n",
    "    i=i+1"
   ]
  },
  {
   "cell_type": "code",
   "execution_count": null,
   "id": "627b3e44-65bd-41ff-bdfd-92384862d395",
   "metadata": {},
   "outputs": [],
   "source": [
    "4ans)"
   ]
  },
  {
   "cell_type": "code",
   "execution_count": 21,
   "id": "531752e8-5f14-49c3-a532-a5a2205dab41",
   "metadata": {},
   "outputs": [
    {
     "name": "stdin",
     "output_type": "stream",
     "text": [
      "enter the number 50\n"
     ]
    },
    {
     "data": {
      "text/plain": [
       "13"
      ]
     },
     "execution_count": 21,
     "metadata": {},
     "output_type": "execute_result"
    }
   ],
   "source": [
    "i=int(input(\"enter the number\"))\n",
    "int((i-10)/3)"
   ]
  },
  {
   "cell_type": "code",
   "execution_count": null,
   "id": "50d7d195-b7ac-476c-aeca-a11b4f4804ea",
   "metadata": {},
   "outputs": [],
   "source": [
    "7ans)"
   ]
  },
  {
   "cell_type": "code",
   "execution_count": 32,
   "id": "ac0963c3-2385-4256-9d15-63f236d6c564",
   "metadata": {},
   "outputs": [
    {
     "name": "stdout",
     "output_type": "stream",
     "text": [
      "1 2 3 4 5 6 7 8 9 10 "
     ]
    }
   ],
   "source": [
    "#while loop\n",
    "i=1\n",
    "while i<11:\n",
    "    print(i ,end=\" \")\n",
    "    i=i+1"
   ]
  },
  {
   "cell_type": "code",
   "execution_count": 34,
   "id": "db5c716b-5dd3-4dc0-a485-2efd4c68dd18",
   "metadata": {},
   "outputs": [
    {
     "name": "stdout",
     "output_type": "stream",
     "text": [
      "10 9 8 7 6 5 4 3 2 1 "
     ]
    }
   ],
   "source": [
    "#reversing a while loop\n",
    "i=1\n",
    "while i<11:\n",
    "    j=11-i\n",
    "    print(j ,end=\" \")\n",
    "    i=i+1"
   ]
  },
  {
   "cell_type": "code",
   "execution_count": null,
   "id": "6d2dbb89-2c52-489d-85d7-2f02a46ad421",
   "metadata": {},
   "outputs": [],
   "source": [
    "8ans)"
   ]
  },
  {
   "cell_type": "code",
   "execution_count": 35,
   "id": "dee69459-f5ff-47be-9f15-bf5d4356124f",
   "metadata": {},
   "outputs": [
    {
     "name": "stdout",
     "output_type": "stream",
     "text": [
      "1 2 3 4 5 6 7 8 9 10 "
     ]
    }
   ],
   "source": [
    "#while loop\n",
    "i=1\n",
    "while i<11:\n",
    "    print(i ,end=\" \")\n",
    "    i=i+1"
   ]
  },
  {
   "cell_type": "code",
   "execution_count": 36,
   "id": "73162d52-0f43-4ed0-9a41-20d22f8a59d0",
   "metadata": {},
   "outputs": [
    {
     "name": "stdout",
     "output_type": "stream",
     "text": [
      "10 9 8 7 6 5 4 3 2 1 "
     ]
    }
   ],
   "source": [
    "#reversing a while loop\n",
    "i=1\n",
    "while i<11:\n",
    "    j=11-i\n",
    "    print(j ,end=\" \")\n",
    "    i=i+1"
   ]
  },
  {
   "cell_type": "code",
   "execution_count": null,
   "id": "109178f1-c41f-4a39-9b89-45d7e47f5c3f",
   "metadata": {},
   "outputs": [],
   "source": []
  },
  {
   "cell_type": "code",
   "execution_count": null,
   "id": "98b1e197-897f-43a6-a7e0-0c780caac056",
   "metadata": {},
   "outputs": [],
   "source": []
  },
  {
   "cell_type": "code",
   "execution_count": null,
   "id": "3593053a-6dff-4fe7-b5f2-33735b034968",
   "metadata": {},
   "outputs": [],
   "source": []
  }
 ],
 "metadata": {
  "kernelspec": {
   "display_name": "Python 3 (ipykernel)",
   "language": "python",
   "name": "python3"
  },
  "language_info": {
   "codemirror_mode": {
    "name": "ipython",
    "version": 3
   },
   "file_extension": ".py",
   "mimetype": "text/x-python",
   "name": "python",
   "nbconvert_exporter": "python",
   "pygments_lexer": "ipython3",
   "version": "3.10.8"
  }
 },
 "nbformat": 4,
 "nbformat_minor": 5
}
