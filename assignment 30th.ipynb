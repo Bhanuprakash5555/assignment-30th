{
 "cells": [
  {
   "cell_type": "code",
   "execution_count": null,
   "id": "f5b85981-6834-484d-8652-cb0a92da5e93",
   "metadata": {},
   "outputs": [],
   "source": [
    "1ans)"
   ]
  },
  {
   "cell_type": "code",
   "execution_count": 8,
   "id": "2cda54e3-bdd2-4d5f-986c-c20faf6ce06d",
   "metadata": {},
   "outputs": [
    {
     "name": "stdin",
     "output_type": "stream",
     "text": [
      "enter the per 77\n"
     ]
    },
    {
     "name": "stdout",
     "output_type": "stream",
     "text": [
      "GRADE C\n"
     ]
    }
   ],
   "source": [
    "per=int(input(\"enter the per\"))\n",
    "if per>90:\n",
    "    print(\"GRADE A\")\n",
    "elif per>80 and per<=90:\n",
    "        print(\"GRADE B\")\n",
    "elif per>60 and per<=80:\n",
    "            print(\"GRADE C\")\n",
    "else:\n",
    "    print(\"GRADE D\")"
   ]
  },
  {
   "cell_type": "code",
   "execution_count": null,
   "id": "aac18c48-261b-48dc-a717-12491747731e",
   "metadata": {},
   "outputs": [],
   "source": [
    "2ans)"
   ]
  },
  {
   "cell_type": "code",
   "execution_count": 30,
   "id": "133b09f4-216d-49c8-b1c8-b46cfd65ab7a",
   "metadata": {},
   "outputs": [
    {
     "name": "stdin",
     "output_type": "stream",
     "text": [
      "enter the price 100000\n"
     ]
    },
    {
     "name": "stdout",
     "output_type": "stream",
     "text": [
      "the tax is:10000.0\n"
     ]
    }
   ],
   "source": [
    "cost_price=int(input(\"enter the price\"))\n",
    "if cost_price >100000:\n",
    "    print(f\"the tax is:{cost_price*0.15}\")\n",
    "elif cost_price>50000 and cost_price<=100000:\n",
    "    print(f\"the tax is:{cost_price*0.1}\")\n",
    "elif cost_price<=50000:\n",
    "    print(f\"the tax is:{cost_price*0.05}\")"
   ]
  },
  {
   "cell_type": "code",
   "execution_count": null,
   "id": "b652ceb0-5ff5-4383-ba1f-20b113fe5c0c",
   "metadata": {},
   "outputs": [],
   "source": [
    "3ans)"
   ]
  },
  {
   "cell_type": "code",
   "execution_count": 4,
   "id": "116fc522-0da9-48cc-972e-956157247361",
   "metadata": {},
   "outputs": [
    {
     "name": "stdin",
     "output_type": "stream",
     "text": [
      "enter the city Delhi\n"
     ]
    },
    {
     "name": "stdout",
     "output_type": "stream",
     "text": [
      "monument is RED FORT\n"
     ]
    }
   ],
   "source": [
    "city=str(input(\"enter the city\"))\n",
    "if city == \"Delhi\":\n",
    "    print(\"monument is RED FORT\")\n",
    "elif city == \"Agra\":\n",
    "    print(\"Monument is TAJ MAHAL\")\n",
    "elif city == \"Jaipur\":\n",
    "    print(\"Monument is JAL MAHAL\")"
   ]
  },
  {
   "cell_type": "code",
   "execution_count": null,
   "id": "bf6c313b-fde7-4565-8675-ad19f4244bd1",
   "metadata": {},
   "outputs": [],
   "source": [
    "5ans)"
   ]
  },
  {
   "cell_type": "code",
   "execution_count": null,
   "id": "0bd61267-b586-4c4f-b58b-b39fb9e1cd30",
   "metadata": {},
   "outputs": [],
   "source": [
    "\"\"\"Python While Loop is used to execute a block of statements repeatedly until a given condition is satisfied.\n",
    "And when the condition becomes false, the line immediately after the loop in the program is executed.\"\"\""
   ]
  },
  {
   "cell_type": "code",
   "execution_count": 5,
   "id": "1ca8a117-9676-497f-aa37-cfc5112f0f66",
   "metadata": {},
   "outputs": [
    {
     "name": "stdout",
     "output_type": "stream",
     "text": [
      "hello\n",
      "hello\n",
      "hello\n",
      "hello\n"
     ]
    }
   ],
   "source": [
    "count=1\n",
    "while count<5:\n",
    "    print(\"hello\")\n",
    "    count=count+1"
   ]
  }
 ],
 "metadata": {
  "kernelspec": {
   "display_name": "Python 3 (ipykernel)",
   "language": "python",
   "name": "python3"
  },
  "language_info": {
   "codemirror_mode": {
    "name": "ipython",
    "version": 3
   },
   "file_extension": ".py",
   "mimetype": "text/x-python",
   "name": "python",
   "nbconvert_exporter": "python",
   "pygments_lexer": "ipython3",
   "version": "3.10.8"
  }
 },
 "nbformat": 4,
 "nbformat_minor": 5
}
